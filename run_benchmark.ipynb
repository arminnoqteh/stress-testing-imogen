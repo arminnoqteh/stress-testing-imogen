{
    "cells": [
        {
            "cell_type": "markdown",
            "metadata": {},
            "source": [
                "# T4 GPU Document Pipeline Benchmark\n",
                "\n",
                "This notebook benchmarks document verification/extraction pipeline throughput on a single NVIDIA T4 GPU.\n",
                "\n",
                "## Setup\n",
                "1. Select GPU runtime (T4 preferred)\n",
                "2. Run cells sequentially"
            ]
        },
        {
            "cell_type": "code",
            "execution_count": null,
            "metadata": {},
            "outputs": [],
            "source": [
                "# Clone the repository\n",
                "!git clone https://github.com/yourusername/t4_gpu_benchmark.git\n",
                "%cd t4_gpu_benchmark\n",
                "\n",
                "# Install dependencies\n",
                "!pip install -r requirements.txt -q"
            ]
        },
        {
            "cell_type": "code",
            "execution_count": null,
            "metadata": {},
            "outputs": [],
            "source": [
                "# Import and run benchmark\n",
                "from benchmark.benchmark import T4Benchmark\n",
                "\n",
                "# Create benchmark instance\n",
                "benchmark = T4Benchmark()\n",
                "\n",
                "# Load model\n",
                "benchmark.load_model()"
            ]
        },
        {
            "cell_type": "code",
            "execution_count": null,
            "metadata": {},
            "outputs": [],
            "source": [
                "# Run benchmark\n",
                "results = benchmark.run_benchmark()"
            ]
        },
        {
            "cell_type": "code",
            "execution_count": null,
            "metadata": {},
            "outputs": [],
            "source": [
                "# Generate report\n",
                "if results:\n",
                "    df = benchmark.generate_report(results)\n",
                "    \n",
                "    # Display final results\n",
                "    from IPython.display import display\n",
                "    display(df)\n",
                "    \n",
                "    # Download results\n",
                "    from google.colab import files\n",
                "    files.download('t4_benchmark_results.csv')\n",
                "    files.download('t4_benchmark_plots.png')"
            ]
        }
    ],
    "metadata": {
        "kernelspec": {
            "display_name": "Python 3",
            "language": "python",
            "name": "python3"
        },
        "language_info": {
            "codemirror_mode": {
                "name": "ipython",
                "version": 3
            },
            "file_extension": ".py",
            "mimetype": "text/x-python",
            "name": "python",
            "nbconvert_exporter": "python",
            "pygments_lexer": "ipython3",
            "version": "3.8.5"
        }
    },
    "nbformat": 4,
    "nbformat_minor": 4
}